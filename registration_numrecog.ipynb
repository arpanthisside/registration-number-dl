{
  "nbformat": 4,
  "nbformat_minor": 0,
  "metadata": {
    "colab": {
      "provenance": []
    },
    "kernelspec": {
      "name": "python3",
      "display_name": "Python 3"
    },
    "language_info": {
      "name": "python"
    }
  },
  "cells": [
    {
      "cell_type": "code",
      "execution_count": null,
      "metadata": {
        "id": "cFR_-e5t_-n5"
      },
      "outputs": [],
      "source": [
        "!pip install easyocr\n",
        "!pip install imutils"
      ]
    },
    {
      "cell_type": "code",
      "source": [
        "import cv2\n",
        "from matplotlib import pyplot as plt\n",
        "import numpy as np\n",
        "import imutils\n",
        "import easyocr\n",
        "img = cv2.imread(\"image1.jpg\")\n",
        "gray = cv2.cvtColor(img, cv2.COLOR_BGR2GRAY)\n",
        "plt.imshow(cv2.cvtColor(gray, cv2.COLOR_BGR2RGB))"
      ],
      "metadata": {
        "id": "2EJ984tNAZDp"
      },
      "execution_count": null,
      "outputs": []
    },
    {
      "cell_type": "code",
      "source": [
        "bfilter = cv2.bilateralFilter(gray, 11, 17, 17)\n",
        "edged = cv2.Canny(bfilter, 30, 200)\n",
        "plt.imshow(cv2.cvtColor(edged, cv2.COLOR_BGR2RGB))\n",
        "keypoints = cv2.findContours(edged.copy(), cv2.RETR_TREE, cv2.CHAIN_APPROX_SIMPLE)\n",
        "contours = imutils.grab_contours(keypoints)\n",
        "contours = sorted(contours, key=cv2.contourArea, reverse=True)[:10]\n"
      ],
      "metadata": {
        "id": "zYz30pySAfRG"
      },
      "execution_count": null,
      "outputs": []
    },
    {
      "cell_type": "code",
      "source": [
        "location = None\n",
        "for contour in contours:\n",
        "  approx = cv2.approxPolyDP(contour, 10, True)\n",
        "  if len(approx) == 4:\n",
        "    location = approx\n",
        "    break"
      ],
      "metadata": {
        "id": "RZl8GtitAd9P"
      },
      "execution_count": null,
      "outputs": []
    },
    {
      "cell_type": "code",
      "source": [
        "location"
      ],
      "metadata": {
        "id": "ou6teiQMAlsS"
      },
      "execution_count": null,
      "outputs": []
    },
    {
      "cell_type": "code",
      "source": [
        "mask = np.zeros(gray.shape, np.uint8)\n",
        "new_image = cv2.drawContours(mask, [location], 0, 255, -1)\n",
        "new_image = cv2.bitwise_and(img, img, mask=mask)"
      ],
      "metadata": {
        "id": "i3mHkjDkAnZy"
      },
      "execution_count": null,
      "outputs": []
    },
    {
      "cell_type": "code",
      "source": [
        "plt.imshow(cv2.cvtColor(new_image, cv2.COLOR_BGR2RGB))\n"
      ],
      "metadata": {
        "id": "zHFlicC8ApS7"
      },
      "execution_count": null,
      "outputs": []
    },
    {
      "cell_type": "code",
      "source": [
        "(x,y) = np.where(mask==255)\n",
        "(x1, y1) = (np.min(x), np.min(y))\n",
        "(x2, y2) = (np.max(x), np.max(y))\n",
        "cropped_image = gray[x1:x2+1, y1:y2+1]\n",
        "plt.imshow(cv2.cvtColor(cropped_image, cv2.COLOR_BGR2RGB))\n"
      ],
      "metadata": {
        "id": "3vNDdUrnAriC"
      },
      "execution_count": null,
      "outputs": []
    },
    {
      "cell_type": "code",
      "source": [
        "reader = easyocr.Reader(['en'])\n",
        "result = reader.readtext(cropped_image)\n",
        "result\n"
      ],
      "metadata": {
        "id": "1Br-Lj6SA6CW"
      },
      "execution_count": null,
      "outputs": []
    },
    {
      "cell_type": "code",
      "source": [
        "text = result[0][-2]\n",
        "font = cv2.FONT_HERSHEY_SIMPLEX\n",
        "res = cv2.putText(img, text=text, org=(approx[0][0][0], approx[1][0][1]+60), fontFace=font, fontScale=1, color=(0,255,0), thickness=2, lineType=cv2.LINE_AA)\n",
        "res = cv2.rectangle(img, tuple(approx[0][0]), tuple(approx[2][0]), (0,255,0), 3)\n",
        "plt.imshow(cv2.cvtColor(res, cv2.COLOR_BGR2RGB))\n"
      ],
      "metadata": {
        "id": "-Kqr1VfuA-DD"
      },
      "execution_count": null,
      "outputs": []
    }
  ]
}